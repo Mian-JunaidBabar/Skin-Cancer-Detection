{
 "cells": [
  {
   "cell_type": "markdown",
   "metadata": {
    "id": "WTgbTMFlH3wc"
   },
   "source": [
    "# Skin Cancer Detection using Cnn\n",
    "\n",
    "##### By Junaid Babar\n",
    "\n",
    "##### su92-bscsm-f22-407\n"
   ]
  },
  {
   "cell_type": "markdown",
   "metadata": {
    "id": "_TjDAgLOH3we"
   },
   "source": [
    "### ✅ Step 1: Import Required Libraries & Check GPU\n"
   ]
  },
  {
   "cell_type": "code",
   "execution_count": 1,
   "metadata": {
    "executionInfo": {
     "elapsed": 16451,
     "status": "ok",
     "timestamp": 1744144758453,
     "user": {
      "displayName": "Junaid Babar",
      "userId": "04512925785767528944"
     },
     "user_tz": -300
    },
    "id": "T1i4biTZH3we"
   },
   "outputs": [],
   "source": [
    "import os\n",
    "import torch\n",
    "import torchvision\n",
    "import torchvision.transforms as transforms\n",
    "import matplotlib.pyplot as plt\n",
    "import numpy as np\n",
    "import pandas as pd\n",
    "from torch import nn, optim\n",
    "from torch.utils.data import Dataset, DataLoader\n",
    "from torchvision.io import read_image\n",
    "from sklearn.model_selection import train_test_split\n",
    "from PIL import Image"
   ]
  },
  {
   "cell_type": "code",
   "execution_count": 2,
   "metadata": {
    "colab": {
     "base_uri": "https://localhost:8080/"
    },
    "executionInfo": {
     "elapsed": 47,
     "status": "ok",
     "timestamp": 1744144762001,
     "user": {
      "displayName": "Junaid Babar",
      "userId": "04512925785767528944"
     },
     "user_tz": -300
    },
    "id": "UGStc7wqH3wf",
    "outputId": "df69d90e-2de5-494e-9374-0f5f6a498081"
   },
   "outputs": [
    {
     "name": "stdout",
     "output_type": "stream",
     "text": [
      "✅ PyTorch version: 2.5.1+cu118\n",
      "✅ GPU Available: True\n",
      "✅ Using Device: cuda\n",
      "GPU Name: Quadro T1000\n"
     ]
    }
   ],
   "source": [
    "device = torch.device(\"cuda\" if torch.cuda.is_available() else \"cpu\")\n",
    "print(\"✅ PyTorch version:\", torch.__version__)\n",
    "print(\"✅ GPU Available:\", torch.cuda.is_available())\n",
    "print(\"✅ Using Device:\", device)\n",
    "\n",
    "if torch.cuda.is_available():\n",
    "    print(\"GPU Name:\", torch.cuda.get_device_name(0))\n",
    "else:\n",
    "    print(\"No GPU available\")"
   ]
  },
  {
   "cell_type": "markdown",
   "metadata": {
    "id": "sbT2Aym4H3wg"
   },
   "source": [
    "### ✅ Step 2: Load Metadata & Image Paths\n"
   ]
  },
  {
   "cell_type": "code",
   "execution_count": 4,
   "metadata": {
    "colab": {
     "base_uri": "https://localhost:8080/"
    },
    "executionInfo": {
     "elapsed": 3039,
     "status": "ok",
     "timestamp": 1744144784980,
     "user": {
      "displayName": "Junaid Babar",
      "userId": "04512925785767528944"
     },
     "user_tz": -300
    },
    "id": "UXZFGtSIH3wg",
    "outputId": "603bc085-2f88-4975-e73f-e686a3788730"
   },
   "outputs": [
    {
     "name": "stdout",
     "output_type": "stream",
     "text": [
      "✅ Total images found: 10015\n",
      "✅ Labels mapped: {'bkl': 0, 'nv': 1, 'df': 2, 'mel': 3, 'vasc': 4, 'bcc': 5, 'akiec': 6}\n",
      "✅ Training samples: 8012\n",
      "✅ Testing samples: 2003\n"
     ]
    }
   ],
   "source": [
    "metadata = pd.read_csv(\"Dataset/HAM10000_metadata.csv\")\n",
    "image_path_1 = \"Dataset/HAM10000_images_part_1\"\n",
    "image_path_2 = \"Dataset/HAM10000_images_part_2\"\n",
    "\n",
    "metadata['image_path'] = metadata['image_id'].apply(\n",
    "    lambda x: os.path.join(image_path_1, f\"{x}.jpg\") if os.path.exists(os.path.join(image_path_1, f\"{x}.jpg\"))\n",
    "    else os.path.join(image_path_2, f\"{x}.jpg\")\n",
    ")\n",
    "\n",
    "label_mapping = {label: idx for idx, label in enumerate(metadata['dx'].unique())}\n",
    "metadata['label'] = metadata['dx'].map(label_mapping)\n",
    "\n",
    "print(\"✅ Total images found:\", len(metadata))\n",
    "print(\"✅ Labels mapped:\", label_mapping)\n",
    "\n",
    "\n",
    "### ✅ Step 3: Split Dataset\n",
    "train_df, test_df = train_test_split(metadata, test_size=0.2, stratify=metadata['label'], random_state=42)\n",
    "print(\"✅ Training samples:\", len(train_df))\n",
    "print(\"✅ Testing samples:\", len(test_df))"
   ]
  },
  {
   "cell_type": "markdown",
   "metadata": {
    "id": "hqtRn0GnH3wh"
   },
   "source": [
    "### ✅ Step 3: Split Dataset\n"
   ]
  },
  {
   "cell_type": "code",
   "execution_count": 5,
   "metadata": {
    "colab": {
     "base_uri": "https://localhost:8080/"
    },
    "executionInfo": {
     "elapsed": 10,
     "status": "ok",
     "timestamp": 1744144788567,
     "user": {
      "displayName": "Junaid Babar",
      "userId": "04512925785767528944"
     },
     "user_tz": -300
    },
    "id": "bFqTn_n1H3wh",
    "outputId": "3d8681c4-5413-4013-a66a-a06dbe1ee822"
   },
   "outputs": [
    {
     "name": "stdout",
     "output_type": "stream",
     "text": [
      "✅ Training samples: 8012\n",
      "✅ Testing samples: 2003\n"
     ]
    }
   ],
   "source": [
    "train_df, test_df = train_test_split(metadata, test_size=0.2, stratify=metadata['label'], random_state=42)\n",
    "print(\"✅ Training samples:\", len(train_df))\n",
    "print(\"✅ Testing samples:\", len(test_df))"
   ]
  },
  {
   "cell_type": "markdown",
   "metadata": {
    "id": "8ycN-WBDH3wh"
   },
   "source": [
    "### ✅ Step 4: Custom Dataset Class\n"
   ]
  },
  {
   "cell_type": "code",
   "execution_count": 6,
   "metadata": {
    "executionInfo": {
     "elapsed": 14,
     "status": "ok",
     "timestamp": 1744144792213,
     "user": {
      "displayName": "Junaid Babar",
      "userId": "04512925785767528944"
     },
     "user_tz": -300
    },
    "id": "Yxd8Th5vH3wh"
   },
   "outputs": [],
   "source": [
    "class SkinCancerDataset(Dataset):\n",
    "    def __init__(self, dataframe, transform=None):\n",
    "        self.dataframe = dataframe.reset_index(drop=True)\n",
    "        self.transform = transform\n",
    "\n",
    "    def __len__(self):\n",
    "        return len(self.dataframe)\n",
    "\n",
    "    def __getitem__(self, idx):\n",
    "        img_path = self.dataframe.loc[idx, 'image_path']\n",
    "        image = Image.open(img_path).convert(\"RGB\")\n",
    "        label = self.dataframe.loc[idx, 'label']\n",
    "\n",
    "        if self.transform:\n",
    "            image = self.transform(image)\n",
    "\n",
    "        return image, label"
   ]
  },
  {
   "cell_type": "markdown",
   "metadata": {
    "id": "N6cJWb_SH3wh"
   },
   "source": [
    "### ✅ Step 5: Transforms and Dataloaders\n"
   ]
  },
  {
   "cell_type": "code",
   "execution_count": 8,
   "metadata": {
    "colab": {
     "base_uri": "https://localhost:8080/"
    },
    "executionInfo": {
     "elapsed": 21,
     "status": "ok",
     "timestamp": 1744144794797,
     "user": {
      "displayName": "Junaid Babar",
      "userId": "04512925785767528944"
     },
     "user_tz": -300
    },
    "id": "uDXjkr9bH3wh",
    "outputId": "c27a87c4-ca70-4aaa-fdc0-de2798dc601b"
   },
   "outputs": [
    {
     "name": "stdout",
     "output_type": "stream",
     "text": [
      "✅ DataLoaders are ready\n"
     ]
    }
   ],
   "source": [
    "transform = transforms.Compose([\n",
    "    transforms.Resize((224, 224)),  # Replace with original size\n",
    "    transforms.RandomHorizontalFlip(),\n",
    "    transforms.RandomRotation(10),\n",
    "    transforms.ToTensor(),\n",
    "    transforms.Normalize(mean=[0.5, 0.5, 0.5], std=[0.5, 0.5, 0.5])\n",
    "])\n",
    "\n",
    "train_dataset = SkinCancerDataset(train_df, transform=transform)\n",
    "test_dataset = SkinCancerDataset(test_df, transform=transform)\n",
    "\n",
    "train_loader = DataLoader(train_dataset, batch_size=16, shuffle=True)\n",
    "test_loader = DataLoader(test_dataset, batch_size=16, shuffle=False)\n",
    "\n",
    "print(\"✅ DataLoaders are ready\")"
   ]
  },
  {
   "cell_type": "markdown",
   "metadata": {
    "id": "kui0PVO0H3wi"
   },
   "source": [
    "### ✅ Step 6: CNN Model Definition\n"
   ]
  },
  {
   "cell_type": "code",
   "execution_count": 9,
   "metadata": {
    "colab": {
     "base_uri": "https://localhost:8080/"
    },
    "executionInfo": {
     "elapsed": 171,
     "status": "ok",
     "timestamp": 1744144797452,
     "user": {
      "displayName": "Junaid Babar",
      "userId": "04512925785767528944"
     },
     "user_tz": -300
    },
    "id": "3YDF4mqsH3wi",
    "outputId": "47941beb-f170-47ff-ab42-c72aafb5f3a5"
   },
   "outputs": [
    {
     "name": "stdout",
     "output_type": "stream",
     "text": [
      "✅ CNN Model updated and loaded\n"
     ]
    }
   ],
   "source": [
    "class CNNModel(nn.Module):\n",
    "    def __init__(self):\n",
    "        super(CNNModel, self).__init__()\n",
    "        self.net = nn.Sequential(\n",
    "            nn.Conv2d(3, 32, 3, padding=1),  # Input channels = 3 (RGB), Output channels = 32\n",
    "            nn.ReLU(),\n",
    "            nn.MaxPool2d(2, 2),  # Reduces size by half\n",
    "\n",
    "            nn.Conv2d(32, 64, 3, padding=1),  # Input channels = 32, Output channels = 64\n",
    "            nn.ReLU(),\n",
    "            nn.MaxPool2d(2, 2),  # Reduces size by half\n",
    "\n",
    "            nn.Conv2d(64, 128, 3, padding=1),  # Input channels = 64, Output channels = 128\n",
    "            nn.ReLU(),\n",
    "            nn.MaxPool2d(2, 2),  # Reduces size by half\n",
    "\n",
    "            nn.Flatten(),  # Flatten the output for the fully connected layer\n",
    "            nn.Linear(28 * 28 * 128, 512),  # Adjust input size based on new image size\n",
    "            nn.ReLU(),\n",
    "            nn.Dropout(0.3),\n",
    "            nn.Linear(512, 7)  # Output size = 7 (number of classes)\n",
    "        )\n",
    "\n",
    "    def forward(self, x):\n",
    "        return self.net(x)\n",
    "\n",
    "model = CNNModel().to(device)\n",
    "print(\"✅ CNN Model updated and loaded\")"
   ]
  },
  {
   "cell_type": "markdown",
   "metadata": {
    "id": "d-77YCzNH3wi"
   },
   "source": [
    "### ✅ Step 7: Loss, Optimizer, Scheduler\n"
   ]
  },
  {
   "cell_type": "code",
   "execution_count": 10,
   "metadata": {
    "executionInfo": {
     "elapsed": 3,
     "status": "ok",
     "timestamp": 1744144799827,
     "user": {
      "displayName": "Junaid Babar",
      "userId": "04512925785767528944"
     },
     "user_tz": -300
    },
    "id": "vS3W_Re7H3wi"
   },
   "outputs": [],
   "source": [
    "criterion = nn.CrossEntropyLoss()\n",
    "optimizer = optim.Adam(model.parameters(), lr=0.0005)\n",
    "scheduler = optim.lr_scheduler.StepLR(optimizer, step_size=10, gamma=0.5)\n"
   ]
  },
  {
   "cell_type": "markdown",
   "metadata": {
    "id": "X6JE69ojH3wi"
   },
   "source": [
    "### ✅ Step 8: Training and Validation Loop\n"
   ]
  },
  {
   "cell_type": "code",
   "execution_count": 12,
   "metadata": {
    "id": "FUbSakPFH3wi"
   },
   "outputs": [
    {
     "name": "stdout",
     "output_type": "stream",
     "text": [
      "🔄 Starting Epoch 1/25...\n",
      "✅ Training completed for Epoch 1. Accuracy: 0.6931, Loss: 420.1978\n",
      "✅ Validation completed for Epoch 1. Validation Accuracy: 0.7169\n",
      "📊 Epoch 1/25 Summary: Train Acc: 0.6931, Val Acc: 0.7169, Images Trained: 8012\n",
      "🔄 Starting Epoch 2/25...\n",
      "✅ Training completed for Epoch 2. Accuracy: 0.7152, Loss: 382.9635\n",
      "✅ Validation completed for Epoch 2. Validation Accuracy: 0.7279\n",
      "📊 Epoch 2/25 Summary: Train Acc: 0.7152, Val Acc: 0.7279, Images Trained: 8012\n",
      "🔄 Starting Epoch 3/25...\n",
      "✅ Training completed for Epoch 3. Accuracy: 0.7298, Loss: 364.6227\n",
      "✅ Validation completed for Epoch 3. Validation Accuracy: 0.7439\n",
      "📊 Epoch 3/25 Summary: Train Acc: 0.7298, Val Acc: 0.7439, Images Trained: 8012\n",
      "🔄 Starting Epoch 4/25...\n",
      "✅ Training completed for Epoch 4. Accuracy: 0.7400, Loss: 345.5120\n",
      "✅ Validation completed for Epoch 4. Validation Accuracy: 0.7454\n",
      "📊 Epoch 4/25 Summary: Train Acc: 0.7400, Val Acc: 0.7454, Images Trained: 8012\n",
      "🔄 Starting Epoch 5/25...\n",
      "✅ Training completed for Epoch 5. Accuracy: 0.7535, Loss: 333.4923\n",
      "✅ Validation completed for Epoch 5. Validation Accuracy: 0.7604\n",
      "📊 Epoch 5/25 Summary: Train Acc: 0.7535, Val Acc: 0.7604, Images Trained: 8012\n",
      "🔄 Starting Epoch 6/25...\n",
      "✅ Training completed for Epoch 6. Accuracy: 0.7659, Loss: 314.4969\n",
      "✅ Validation completed for Epoch 6. Validation Accuracy: 0.7404\n",
      "📊 Epoch 6/25 Summary: Train Acc: 0.7659, Val Acc: 0.7404, Images Trained: 8012\n",
      "🔄 Starting Epoch 7/25...\n",
      "✅ Training completed for Epoch 7. Accuracy: 0.7760, Loss: 296.9639\n",
      "✅ Validation completed for Epoch 7. Validation Accuracy: 0.7619\n",
      "📊 Epoch 7/25 Summary: Train Acc: 0.7760, Val Acc: 0.7619, Images Trained: 8012\n",
      "🔄 Starting Epoch 8/25...\n",
      "✅ Training completed for Epoch 8. Accuracy: 0.7859, Loss: 281.5005\n",
      "✅ Validation completed for Epoch 8. Validation Accuracy: 0.7688\n",
      "📊 Epoch 8/25 Summary: Train Acc: 0.7859, Val Acc: 0.7688, Images Trained: 8012\n",
      "🔄 Starting Epoch 9/25...\n",
      "✅ Training completed for Epoch 9. Accuracy: 0.7993, Loss: 265.2198\n",
      "✅ Validation completed for Epoch 9. Validation Accuracy: 0.7644\n",
      "📊 Epoch 9/25 Summary: Train Acc: 0.7993, Val Acc: 0.7644, Images Trained: 8012\n",
      "🔄 Starting Epoch 10/25...\n",
      "✅ Training completed for Epoch 10. Accuracy: 0.8078, Loss: 253.9914\n",
      "✅ Validation completed for Epoch 10. Validation Accuracy: 0.7629\n",
      "📊 Epoch 10/25 Summary: Train Acc: 0.8078, Val Acc: 0.7629, Images Trained: 8012\n",
      "🔄 Starting Epoch 11/25...\n",
      "✅ Training completed for Epoch 11. Accuracy: 0.8435, Loss: 208.2360\n",
      "✅ Validation completed for Epoch 11. Validation Accuracy: 0.7718\n",
      "📊 Epoch 11/25 Summary: Train Acc: 0.8435, Val Acc: 0.7718, Images Trained: 8012\n",
      "🔄 Starting Epoch 12/25...\n",
      "✅ Training completed for Epoch 12. Accuracy: 0.8591, Loss: 187.4241\n",
      "✅ Validation completed for Epoch 12. Validation Accuracy: 0.7758\n",
      "📊 Epoch 12/25 Summary: Train Acc: 0.8591, Val Acc: 0.7758, Images Trained: 8012\n",
      "🔄 Starting Epoch 13/25...\n",
      "✅ Training completed for Epoch 13. Accuracy: 0.8677, Loss: 178.6375\n",
      "✅ Validation completed for Epoch 13. Validation Accuracy: 0.7753\n",
      "📊 Epoch 13/25 Summary: Train Acc: 0.8677, Val Acc: 0.7753, Images Trained: 8012\n",
      "🔄 Starting Epoch 14/25...\n",
      "✅ Training completed for Epoch 14. Accuracy: 0.8823, Loss: 161.8296\n",
      "✅ Validation completed for Epoch 14. Validation Accuracy: 0.7748\n",
      "📊 Epoch 14/25 Summary: Train Acc: 0.8823, Val Acc: 0.7748, Images Trained: 8012\n",
      "🔄 Starting Epoch 15/25...\n",
      "✅ Training completed for Epoch 15. Accuracy: 0.8877, Loss: 152.0598\n",
      "✅ Validation completed for Epoch 15. Validation Accuracy: 0.7678\n",
      "📊 Epoch 15/25 Summary: Train Acc: 0.8877, Val Acc: 0.7678, Images Trained: 8012\n",
      "🔄 Starting Epoch 16/25...\n",
      "✅ Training completed for Epoch 16. Accuracy: 0.8954, Loss: 139.6196\n",
      "✅ Validation completed for Epoch 16. Validation Accuracy: 0.7778\n",
      "📊 Epoch 16/25 Summary: Train Acc: 0.8954, Val Acc: 0.7778, Images Trained: 8012\n",
      "🔄 Starting Epoch 17/25...\n",
      "✅ Training completed for Epoch 17. Accuracy: 0.9083, Loss: 128.9971\n",
      "✅ Validation completed for Epoch 17. Validation Accuracy: 0.7803\n",
      "📊 Epoch 17/25 Summary: Train Acc: 0.9083, Val Acc: 0.7803, Images Trained: 8012\n",
      "🔄 Starting Epoch 18/25...\n",
      "✅ Training completed for Epoch 18. Accuracy: 0.9200, Loss: 113.5869\n",
      "✅ Validation completed for Epoch 18. Validation Accuracy: 0.7728\n",
      "📊 Epoch 18/25 Summary: Train Acc: 0.9200, Val Acc: 0.7728, Images Trained: 8012\n",
      "🔄 Starting Epoch 19/25...\n",
      "✅ Training completed for Epoch 19. Accuracy: 0.9241, Loss: 106.1872\n",
      "✅ Validation completed for Epoch 19. Validation Accuracy: 0.7803\n",
      "📊 Epoch 19/25 Summary: Train Acc: 0.9241, Val Acc: 0.7803, Images Trained: 8012\n",
      "🔄 Starting Epoch 20/25...\n",
      "✅ Training completed for Epoch 20. Accuracy: 0.9231, Loss: 104.7691\n",
      "✅ Validation completed for Epoch 20. Validation Accuracy: 0.7683\n",
      "📊 Epoch 20/25 Summary: Train Acc: 0.9231, Val Acc: 0.7683, Images Trained: 8012\n",
      "🔄 Starting Epoch 21/25...\n",
      "✅ Training completed for Epoch 21. Accuracy: 0.9453, Loss: 76.0727\n",
      "✅ Validation completed for Epoch 21. Validation Accuracy: 0.7793\n",
      "📊 Epoch 21/25 Summary: Train Acc: 0.9453, Val Acc: 0.7793, Images Trained: 8012\n",
      "🔄 Starting Epoch 22/25...\n",
      "✅ Training completed for Epoch 22. Accuracy: 0.9522, Loss: 67.9191\n",
      "✅ Validation completed for Epoch 22. Validation Accuracy: 0.7803\n",
      "📊 Epoch 22/25 Summary: Train Acc: 0.9522, Val Acc: 0.7803, Images Trained: 8012\n",
      "🔄 Starting Epoch 23/25...\n",
      "✅ Training completed for Epoch 23. Accuracy: 0.9546, Loss: 63.9708\n",
      "✅ Validation completed for Epoch 23. Validation Accuracy: 0.7763\n",
      "📊 Epoch 23/25 Summary: Train Acc: 0.9546, Val Acc: 0.7763, Images Trained: 8012\n",
      "🔄 Starting Epoch 24/25...\n",
      "✅ Training completed for Epoch 24. Accuracy: 0.9619, Loss: 57.6914\n",
      "✅ Validation completed for Epoch 24. Validation Accuracy: 0.7733\n",
      "📊 Epoch 24/25 Summary: Train Acc: 0.9619, Val Acc: 0.7733, Images Trained: 8012\n",
      "🔄 Starting Epoch 25/25...\n",
      "✅ Training completed for Epoch 25. Accuracy: 0.9629, Loss: 53.7125\n",
      "✅ Validation completed for Epoch 25. Validation Accuracy: 0.7783\n",
      "📊 Epoch 25/25 Summary: Train Acc: 0.9629, Val Acc: 0.7783, Images Trained: 8012\n",
      "🎉 Training and validation completed for all epochs!\n"
     ]
    }
   ],
   "source": [
    "train_acc, val_acc = [], []\n",
    "epochs = 25\n",
    "\n",
    "for epoch in range(epochs):\n",
    "    print(f\"🔄 Starting Epoch {epoch + 1}/{epochs}...\")\n",
    "    \n",
    "    # Training phase\n",
    "    model.train()\n",
    "    correct, total, loss_sum = 0, 0, 0\n",
    "    for images, labels in train_loader:\n",
    "        images, labels = images.to(device), labels.to(device)\n",
    "\n",
    "        optimizer.zero_grad()\n",
    "        outputs = model(images)\n",
    "        loss = criterion(outputs, labels)\n",
    "        loss.backward()\n",
    "        optimizer.step()\n",
    "\n",
    "        _, preds = torch.max(outputs, 1)\n",
    "        correct += (preds == labels).sum().item()\n",
    "        total += labels.size(0)\n",
    "        loss_sum += loss.item()\n",
    "\n",
    "    acc = correct / total\n",
    "    train_acc.append(acc)\n",
    "    print(f\"✅ Training completed for Epoch {epoch + 1}. Accuracy: {acc:.4f}, Loss: {loss_sum:.4f}\")\n",
    "\n",
    "    # Validation phase\n",
    "    model.eval()\n",
    "    val_correct, val_total = 0, 0\n",
    "    with torch.no_grad():\n",
    "        for images, labels in test_loader:\n",
    "            images, labels = images.to(device), labels.to(device)\n",
    "            outputs = model(images)\n",
    "            _, preds = torch.max(outputs, 1)\n",
    "            val_correct += (preds == labels).sum().item()\n",
    "            val_total += labels.size(0)\n",
    "\n",
    "    val_accuracy = val_correct / val_total\n",
    "    val_acc.append(val_accuracy)\n",
    "    scheduler.step()\n",
    "    print(f\"✅ Validation completed for Epoch {epoch + 1}. Validation Accuracy: {val_accuracy:.4f}\")\n",
    "\n",
    "    print(f\"📊 Epoch {epoch + 1}/{epochs} Summary: Train Acc: {acc:.4f}, Val Acc: {val_accuracy:.4f}, Images Trained: {total}\")\n",
    "\n",
    "print(\"🎉 Training and validation completed for all epochs!\")"
   ]
  },
  {
   "cell_type": "markdown",
   "metadata": {
    "id": "b9LJ_PYQH3wj"
   },
   "source": [
    "### ✅ Step 9: Plot Accuracy Curves\n"
   ]
  },
  {
   "cell_type": "code",
   "execution_count": 13,
   "metadata": {
    "id": "cjrAuDjYH3wj",
    "outputId": "3b028f40-88c5-47d3-fe68-c97777447aaf"
   },
   "outputs": [
    {
     "data": {
      "image/png": "[encoded data removed]",
      "text/plain": [
       "<Figure size 640x480 with 1 Axes>"
      ]
     },
     "metadata": {},
     "output_type": "display_data"
    }
   ],
   "source": [
    "plt.plot(train_acc, label='Train Accuracy')\n",
    "plt.plot(val_acc, label='Validation Accuracy')\n",
    "plt.xlabel('Epoch')\n",
    "plt.ylabel('Accuracy')\n",
    "plt.title('Training vs Validation Accuracy')\n",
    "plt.legend()\n",
    "plt.grid()\n",
    "plt.show()"
   ]
  },
  {
   "cell_type": "markdown",
   "metadata": {
    "id": "LMiPL8zEH3wj"
   },
   "source": [
    "### ✅ Step 10: Save Model and Predictions\n"
   ]
  },
  {
   "cell_type": "code",
   "execution_count": 14,
   "metadata": {
    "id": "LzgTFkxUH3wj"
   },
   "outputs": [
    {
     "name": "stdout",
     "output_type": "stream",
     "text": [
      "✅ Model saved to disk at: e:\\AI\\Envs\\pytorch_env\\skin_cancer_cnn_model.pth\n"
     ]
    }
   ],
   "source": [
    "# Save the model\n",
    "model_path = os.path.abspath('skin_cancer_cnn_model.pth')\n",
    "torch.save(model.state_dict(), model_path)\n",
    "print(f\"✅ Model saved to disk at: {model_path}\")"
   ]
  },
  {
   "cell_type": "code",
   "execution_count": 15,
   "metadata": {
    "id": "mSM7UrkcH3wj"
   },
   "outputs": [
    {
     "name": "stdout",
     "output_type": "stream",
     "text": [
      "✅ Predictions exported to predictions.csv\n"
     ]
    }
   ],
   "source": [
    "# Export predictions\n",
    "model.eval()\n",
    "predictions = []\n",
    "true_labels = []\n",
    "\n",
    "with torch.no_grad():\n",
    "    for images, labels in test_loader:\n",
    "        images = images.to(device)\n",
    "        outputs = model(images)\n",
    "        _, preds = torch.max(outputs, 1)\n",
    "        predictions.extend(preds.cpu().numpy())\n",
    "        true_labels.extend(labels.numpy())\n",
    "\n",
    "# Save predictions to CSV\n",
    "results_df = pd.DataFrame({'True Label': true_labels, 'Predicted Label': predictions})\n",
    "results_df.to_csv(\"predictions.csv\", index=False)\n",
    "print(\"✅ Predictions exported to predictions.csv\")\n"
   ]
  }
 ],
 "metadata": {
  "colab": {
   "provenance": []
  },
  "kernelspec": {
   "display_name": "pytorch_env",
   "language": "python",
   "name": "python3"
  },
  "language_info": {
   "codemirror_mode": {
    "name": "ipython",
    "version": 3
   },
   "file_extension": ".py",
   "mimetype": "text/x-python",
   "name": "python",
   "nbconvert_exporter": "python",
   "pygments_lexer": "ipython3",
   "version": "3.10.11"
  }
 },
 "nbformat": 4,
 "nbformat_minor": 0
}
